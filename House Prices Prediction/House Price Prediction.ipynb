{
 "cells": [
  {
   "cell_type": "code",
   "execution_count": 1,
   "metadata": {},
   "outputs": [],
   "source": [
    "import matplotlib.pyplot as plt\n",
    "import numpy as np\n",
    "import pandas as pd\n",
    "import math\n",
    "import datetime as dt\n",
    "from sklearn import linear_model\n",
    "from sklearn.svm import SVR\n",
    "from sklearn.naive_bayes import GaussianNB\n",
    "from sklearn.svm import SVC"
   ]
  },
  {
   "cell_type": "code",
   "execution_count": 2,
   "metadata": {},
   "outputs": [],
   "source": [
    "data = pd.read_csv('train.csv')\n",
    "#data = data.drop(['Alley','BsmtExposure','FireplaceQu','PoolQC','MiscFeature','MiscVal','Id','Fence'],axis=1)\n",
    "#data = data.dropna(axis=0,how='any')\n",
    "#MsZoingAvg = np.average(Y,weights=data[\"MSZoning\"])\n",
    "#print(MsZoingAvg)\n",
    "#plt.plot(X,Y)\n",
    "#plt.grid(True)\n",
    "#plt.show()\n",
    "data = data.drop(data[(data['GrLivArea']>4000) & (data['SalePrice']<300000)].index)\n",
    "#data[(data['GrLivArea']>4000) & (data['SalePrice']<300000)].index\n",
    "#data[(data['TotalBsmtSF']>6000) & (data['SalePrice']<300000)].index\n",
    "#MeanValues = data.mean()"
   ]
  },
  {
   "cell_type": "code",
   "execution_count": 3,
   "metadata": {},
   "outputs": [],
   "source": [
    "#data[(data['MasVnrType']=='None')]['MasVnrType'].count()\n",
    "#data['BsmtExposure'].value_counts()\n",
    "#print(data[(data['BsmtExposure']=='No')]['BsmtExposure'].count())\n",
    "#print(data['BsmtExposure'].count())"
   ]
  },
  {
   "cell_type": "code",
   "execution_count": 4,
   "metadata": {},
   "outputs": [],
   "source": [
    "#data['BsmtExposure'].value_counts()\n",
    "#prob_BsmtExposure = data['BsmtExposure'].value_counts()/(data['BsmtExposure'].count()-data[(data['BsmtExposure']=='No')]['BsmtExposure'].count())\n",
    "#prob_BsmtExposure['No'] = 0\n",
    "#prob_BsmtExposure"
   ]
  },
  {
   "cell_type": "code",
   "execution_count": 5,
   "metadata": {},
   "outputs": [],
   "source": [
    "prob_MSZoning = data['MSZoning'].value_counts()/data['MSZoning'].count()\n",
    "prob_Street = data['Street'].value_counts()/data['Street'].count()\n",
    "prob_alley = data['Alley'].value_counts()/data['Alley'].count()\n",
    "prob_LotShape = data['LotShape'].value_counts()/data['LotShape'].count()\n",
    "prob_LandContour = data['LandContour'].value_counts()/data['LandContour'].count()\n",
    "prob_Utilities = data['Utilities'].value_counts()/data['Utilities'].count()\n",
    "prob_LotConfig = data['LotConfig'].value_counts()/data['LotConfig'].count()\n",
    "prob_LandSlope = data['LandSlope'].value_counts()/data['LandSlope'].count()\n",
    "prob_Neighborhood = data['Neighborhood'].value_counts()/data['Neighborhood'].count()\n",
    "prob_Condition1 = data['Condition1'].value_counts()/data['Condition1'].count()\n",
    "prob_Condition2 = data['Condition2'].value_counts()/data['Condition2'].count()\n",
    "prob_BldgType = data['BldgType'].value_counts()/data['BldgType'].count()\n",
    "prob_HouseStyle = data['HouseStyle'].value_counts()/data['HouseStyle'].count()\n",
    "prob_RoofStyle = data['RoofStyle'].value_counts()/data['RoofStyle'].count()\n",
    "prob_RoofMatl = data['RoofMatl'].value_counts()/data['RoofMatl'].count()\n",
    "prob_Exterior1st = data['Exterior1st'].value_counts()/data['Exterior1st'].count()\n",
    "prob_Exterior2nd = data['Exterior2nd'].value_counts()/data['Exterior2nd'].count()\n",
    "prob_MasVnrType = data['MasVnrType'].value_counts()/(data['MasVnrType'].count()-data[(data['MasVnrType']=='None')]['MasVnrType'].count())\n",
    "prob_MasVnrType['None'] = 0\n",
    "prob_ExterQual = data['ExterQual'].value_counts()/data['ExterQual'].count()\n",
    "prob_ExterCond = data['ExterCond'].value_counts()/data['ExterCond'].count()\n",
    "prob_Foundation = data['Foundation'].value_counts()/data['Foundation'].count()\n",
    "prob_BsmtQual = data['BsmtQual'].value_counts()/data['BsmtQual'].count()\n",
    "prob_BsmtCond = data['BsmtCond'].value_counts()/data['BsmtCond'].count()\n",
    "prob_BsmtExposure = data['BsmtExposure'].value_counts()/(data['BsmtExposure'].count()-data[(data['BsmtExposure']=='No')]['BsmtExposure'].count())\n",
    "prob_BsmtExposure['No'] = 0\n",
    "prob_BsmtFinType1 = data['BsmtFinType1'].value_counts()/data['BsmtFinType1'].count()\n",
    "prob_BsmtFinType2 = data['BsmtFinType2'].value_counts()/data['BsmtFinType2'].count()\n",
    "prob_Heating = data['Heating'].value_counts()/data['Heating'].count()\n",
    "prob_HeatingQC = data['HeatingQC'].value_counts()/data['HeatingQC'].count()\n",
    "prob_Electrical = data['Electrical'].value_counts()/data['Electrical'].count()\n",
    "prob_KitchenQual = data['KitchenQual'].value_counts()/data['KitchenQual'].count()\n",
    "prob_Functional = data['Functional'].value_counts()/data['Functional'].count()\n",
    "prob_FireplaceQu = data['FireplaceQu'].value_counts()/data['FireplaceQu'].count()\n",
    "prob_GarageType = data['GarageType'].value_counts()/data['GarageType'].count()\n",
    "prob_GarageFinish = data['GarageFinish'].value_counts()/data['GarageFinish'].count()\n",
    "prob_GarageQual = data['GarageQual'].value_counts()/data['GarageQual'].count()\n",
    "prob_GarageCond = data['GarageCond'].value_counts()/data['GarageCond'].count()\n",
    "prob_PavedDrive = data['PavedDrive'].value_counts()/data['PavedDrive'].count()\n",
    "prob_PoolQC = data['PoolQC'].value_counts()/data['PoolQC'].count()\n",
    "prob_Fence = data['Fence'].value_counts()/data['Fence'].count()\n",
    "prob_MiscFeature = data['MiscFeature'].value_counts()/data['MiscFeature'].count()\n",
    "prob_SaleType = data['SaleType'].value_counts()/data['SaleType'].count()\n",
    "prob_SaleCondition = data['SaleCondition'].value_counts()/data['SaleCondition'].count()\n"
   ]
  },
  {
   "cell_type": "code",
   "execution_count": 6,
   "metadata": {},
   "outputs": [],
   "source": [
    "data['MSZoning'] = data['MSZoning'].map(prob_MSZoning)\n",
    "data['Street'] = data['Street'].map(prob_Street)\n",
    "data['Alley'] = data['Alley'].map(prob_alley)\n",
    "data['LotShape'] = data['LotShape'].map(prob_LotShape)\n",
    "data['LandContour'] = data['LandContour'].map(prob_LandContour)\n",
    "data['Utilities'] = data['Utilities'].map(prob_Utilities)\n",
    "data['LotConfig'] = data['LotConfig'].map(prob_LotConfig)\n",
    "data['LandSlope'] = data['LandSlope'].map(prob_LandSlope)\n",
    "data['Neighborhood'] = data['Neighborhood'].map(prob_Neighborhood)\n",
    "data['Condition1'] = data['Condition1'].map(prob_Condition1)\n",
    "data['Condition2'] = data['Condition2'].map(prob_Condition2)\n",
    "data['BldgType'] = data['BldgType'].map(prob_BldgType)\n",
    "data['HouseStyle'] = data['HouseStyle'].map(prob_HouseStyle)\n",
    "data['RoofStyle'] = data['RoofStyle'].map(prob_RoofStyle)\n",
    "data['RoofMatl'] = data['RoofMatl'].map(prob_RoofMatl)\n",
    "data['Exterior1st'] = data['Exterior1st'].map(prob_Exterior1st)\n",
    "data['Exterior2nd'] = data['Exterior2nd'].map(prob_Exterior2nd)\n",
    "data['MasVnrType'] = data['MasVnrType'].map(prob_MasVnrType)\n",
    "data['ExterQual'] = data['ExterQual'].map(prob_ExterQual)\n",
    "data['ExterCond'] = data['ExterCond'].map(prob_ExterCond)\n",
    "data['Foundation'] = data['Foundation'].map(prob_Foundation)\n",
    "data['BsmtQual'] = data['BsmtQual'].map(prob_BsmtQual)\n",
    "data['BsmtCond'] = data['BsmtCond'].map(prob_BsmtCond)\n",
    "data['BsmtExposure'] = data['BsmtExposure'].map(prob_BsmtExposure)\n",
    "data['BsmtFinType1'] = data['BsmtFinType1'].map(prob_BsmtFinType1)\n",
    "data['BsmtFinType2'] = data['BsmtFinType2'].map(prob_BsmtFinType2)\n",
    "data['Heating'] = data['Heating'].map(prob_Heating)\n",
    "data['HeatingQC'] = data['HeatingQC'].map(prob_HeatingQC)\n",
    "data['Electrical'] = data['Electrical'].map(prob_Electrical)\n",
    "data['KitchenQual'] = data['KitchenQual'].map(prob_KitchenQual)\n",
    "data['Functional'] = data['Functional'].map(prob_Functional)\n",
    "data['FireplaceQu'] = data['FireplaceQu'].map(prob_FireplaceQu)\n",
    "data['GarageType'] = data['GarageType'].map(prob_GarageType)\n",
    "data['GarageFinish'] = data['GarageFinish'].map(prob_GarageFinish)\n",
    "data['GarageQual'] = data['GarageQual'].map(prob_GarageQual)\n",
    "data['GarageCond'] = data['GarageCond'].map(prob_GarageCond)\n",
    "data['PavedDrive'] = data['PavedDrive'].map(prob_PavedDrive)\n",
    "data['PoolQC'] = data['PoolQC'].map(prob_PoolQC)\n",
    "data['Fence'] = data['Fence'].map(prob_Fence)\n",
    "data['MiscFeature'] = data['MiscFeature'].map(prob_MiscFeature)\n",
    "data['SaleType'] = data['SaleType'].map(prob_SaleType)\n",
    "data['SaleCondition'] = data['SaleCondition'].map(prob_SaleCondition)"
   ]
  },
  {
   "cell_type": "code",
   "execution_count": 7,
   "metadata": {},
   "outputs": [],
   "source": [
    "CentralAir_map = {'Y': 1, 'N': 0}\n",
    "data['CentralAir'] = data['CentralAir'].map(CentralAir_map)\n"
   ]
  },
  {
   "cell_type": "code",
   "execution_count": 8,
   "metadata": {},
   "outputs": [],
   "source": [
    "data.drop('Id',inplace=True,axis=1)\n"
   ]
  },
  {
   "cell_type": "code",
   "execution_count": 9,
   "metadata": {},
   "outputs": [],
   "source": [
    "data.fillna(0,inplace=True)\n",
    "data = data.astype(float,inplace=True)"
   ]
  },
  {
   "cell_type": "code",
   "execution_count": 10,
   "metadata": {},
   "outputs": [],
   "source": [
    "Y_train =data['SalePrice']"
   ]
  },
  {
   "cell_type": "code",
   "execution_count": 11,
   "metadata": {},
   "outputs": [],
   "source": [
    "X_train = data.loc[:, data.columns != 'SalePrice']"
   ]
  },
  {
   "cell_type": "code",
   "execution_count": 12,
   "metadata": {},
   "outputs": [],
   "source": [
    "X_train = X_train.astype(float)"
   ]
  },
  {
   "cell_type": "code",
   "execution_count": 40,
   "metadata": {},
   "outputs": [],
   "source": [
    "#fifthsubmission\n",
    "#classifier = linear_model.LogisticRegression(solver='lbfgs',C=1,max_iter=1000,multi_class='multinomial',random_state=1)\n",
    "#seventhSubmission\n",
    "#classifier = linear_model.ARDRegression(n_iter=1000)\n",
    "#eightsubmission\n",
    "#classifier = linear_model.ARDRegression(n_iter=10000,compute_score=True)\n",
    "#TenthSubmission\n",
    "#classifier = linear_model.HuberRegressor(max_iter=10000)\n",
    "#11\n",
    "#classifier = linear_model.HuberRegressor(max_iter=10000,alpha=0.5)\n",
    "#12\n",
    "#classifier = SVR(kernel='linear',C=100,epsilon=0.01)\n",
    "#Final\n",
    "classifier = SVC(gamma='auto',probability=True,C=100,max_iter=50000)"
   ]
  },
  {
   "cell_type": "code",
   "execution_count": 41,
   "metadata": {},
   "outputs": [
    {
     "data": {
      "text/plain": [
       "SVC(C=100, cache_size=200, class_weight=None, coef0=0.0,\n",
       "  decision_function_shape='ovr', degree=3, gamma='auto', kernel='rbf',\n",
       "  max_iter=50000, probability=True, random_state=None, shrinking=True,\n",
       "  tol=0.001, verbose=False)"
      ]
     },
     "execution_count": 41,
     "metadata": {},
     "output_type": "execute_result"
    }
   ],
   "source": [
    "classifier.fit(X_train,Y_train)"
   ]
  },
  {
   "cell_type": "code",
   "execution_count": 15,
   "metadata": {},
   "outputs": [],
   "source": [
    "testdata = pd.read_csv('test.csv')"
   ]
  },
  {
   "cell_type": "code",
   "execution_count": 16,
   "metadata": {},
   "outputs": [],
   "source": [
    "testdata['MSZoning'] = testdata['MSZoning'].map(prob_MSZoning)\n",
    "testdata['Street'] = testdata['Street'].map(prob_Street)\n",
    "testdata['Alley'] = testdata['Alley'].map(prob_alley)\n",
    "testdata['LotShape'] = testdata['LotShape'].map(prob_LotShape)\n",
    "testdata['LandContour'] = testdata['LandContour'].map(prob_LandContour)\n",
    "testdata['Utilities'] = testdata['Utilities'].map(prob_Utilities)\n",
    "testdata['LotConfig'] = testdata['LotConfig'].map(prob_LotConfig)\n",
    "testdata['LandSlope'] = testdata['LandSlope'].map(prob_LandSlope)\n",
    "testdata['Neighborhood'] = testdata['Neighborhood'].map(prob_Neighborhood)\n",
    "testdata['Condition1'] = testdata['Condition1'].map(prob_Condition1)\n",
    "testdata['Condition2'] = testdata['Condition2'].map(prob_Condition2)\n",
    "testdata['BldgType'] = testdata['BldgType'].map(prob_BldgType)\n",
    "testdata['HouseStyle'] = testdata['HouseStyle'].map(prob_HouseStyle)\n",
    "testdata['RoofStyle'] = testdata['RoofStyle'].map(prob_RoofStyle)\n",
    "testdata['RoofMatl'] = testdata['RoofMatl'].map(prob_RoofMatl)\n",
    "testdata['Exterior1st'] = testdata['Exterior1st'].map(prob_Exterior1st)\n",
    "testdata['Exterior2nd'] = testdata['Exterior2nd'].map(prob_Exterior2nd)\n",
    "testdata['MasVnrType'] = testdata['MasVnrType'].map(prob_MasVnrType)\n",
    "testdata['ExterQual'] = testdata['ExterQual'].map(prob_ExterQual)\n",
    "testdata['ExterCond'] = testdata['ExterCond'].map(prob_ExterCond)\n",
    "testdata['Foundation'] = testdata['Foundation'].map(prob_Foundation)\n",
    "testdata['BsmtQual'] = testdata['BsmtQual'].map(prob_BsmtQual)\n",
    "testdata['BsmtCond'] = testdata['BsmtCond'].map(prob_BsmtCond)\n",
    "testdata['BsmtExposure'] = testdata['BsmtExposure'].map(prob_BsmtExposure)\n",
    "testdata['BsmtFinType1'] = testdata['BsmtFinType1'].map(prob_BsmtFinType1)\n",
    "testdata['BsmtFinType2'] = testdata['BsmtFinType2'].map(prob_BsmtFinType2)\n",
    "testdata['Heating'] = testdata['Heating'].map(prob_Heating)\n",
    "testdata['HeatingQC'] = testdata['HeatingQC'].map(prob_HeatingQC)\n",
    "testdata['Electrical'] = testdata['Electrical'].map(prob_Electrical)\n",
    "testdata['KitchenQual'] = testdata['KitchenQual'].map(prob_KitchenQual)\n",
    "testdata['Functional'] = testdata['Functional'].map(prob_Functional)\n",
    "testdata['FireplaceQu'] = testdata['FireplaceQu'].map(prob_FireplaceQu)\n",
    "testdata['GarageType'] = testdata['GarageType'].map(prob_GarageType)\n",
    "testdata['GarageFinish'] = testdata['GarageFinish'].map(prob_GarageFinish)\n",
    "testdata['GarageQual'] = testdata['GarageQual'].map(prob_GarageQual)\n",
    "testdata['GarageCond'] = testdata['GarageCond'].map(prob_GarageCond)\n",
    "testdata['PavedDrive'] = testdata['PavedDrive'].map(prob_PavedDrive)\n",
    "testdata['PoolQC'] = testdata['PoolQC'].map(prob_PoolQC)\n",
    "testdata['Fence'] = testdata['Fence'].map(prob_Fence)\n",
    "testdata['MiscFeature'] = testdata['MiscFeature'].map(prob_MiscFeature)\n",
    "testdata['SaleType'] = testdata['SaleType'].map(prob_SaleType)\n",
    "testdata['SaleCondition'] = testdata['SaleCondition'].map(prob_SaleCondition)\n"
   ]
  },
  {
   "cell_type": "code",
   "execution_count": 17,
   "metadata": {},
   "outputs": [],
   "source": [
    "testdata['CentralAir'] = testdata['CentralAir'].map(CentralAir_map)"
   ]
  },
  {
   "cell_type": "code",
   "execution_count": 18,
   "metadata": {},
   "outputs": [],
   "source": [
    "y_predictId = testdata['Id'].copy()\n",
    "testdata.drop('Id',inplace=True,axis=1)"
   ]
  },
  {
   "cell_type": "code",
   "execution_count": 19,
   "metadata": {},
   "outputs": [],
   "source": [
    "testdata.fillna(0,inplace=True)\n",
    "testdata = testdata.astype(float)"
   ]
  },
  {
   "cell_type": "code",
   "execution_count": 42,
   "metadata": {},
   "outputs": [],
   "source": [
    "Y_Predict = classifier.predict(testdata)"
   ]
  },
  {
   "cell_type": "code",
   "execution_count": 43,
   "metadata": {},
   "outputs": [
    {
     "data": {
      "text/plain": [
       "0.9993141289437586"
      ]
     },
     "execution_count": 43,
     "metadata": {},
     "output_type": "execute_result"
    }
   ],
   "source": [
    "classifier.score(X_train,Y_train)"
   ]
  },
  {
   "cell_type": "code",
   "execution_count": 44,
   "metadata": {},
   "outputs": [
    {
     "data": {
      "text/plain": [
       "array([140000., 140000., 140000., ..., 140000., 140000., 140000.])"
      ]
     },
     "execution_count": 44,
     "metadata": {},
     "output_type": "execute_result"
    }
   ],
   "source": [
    "Y_Predict"
   ]
  },
  {
   "cell_type": "code",
   "execution_count": 45,
   "metadata": {},
   "outputs": [],
   "source": [
    "submit = pd.DataFrame(data = {'Id':y_predictId, 'SalePrice':Y_Predict})"
   ]
  },
  {
   "cell_type": "code",
   "execution_count": 46,
   "metadata": {},
   "outputs": [],
   "source": [
    "submit.to_csv('FinalSubmission.csv',index=False)"
   ]
  },
  {
   "cell_type": "code",
   "execution_count": 46,
   "metadata": {},
   "outputs": [],
   "source": [
    "# Implement the following functions\n",
    "\n",
    "# Activation (sigmoid) function\n",
    "def sigmoid(x):    \n",
    "    return (1/(1+np.exp(-x)**2))\n",
    "    pass\n",
    "\n",
    "# Output (prediction) formula\n",
    "def output_formula(features, weights, bias):   \n",
    "    return sigmoid(np.dot(features,weights) + bias )\n",
    "    pass\n",
    "\n",
    "# Error (log-loss) formula\n",
    "def error_formula(y, output):\n",
    "    return - y*np.log(output) - (1 - y) * np.log(1-output)\n",
    "    pass\n",
    "\n",
    "# Gradient descent step\n",
    "def update_weights(x, y, weights, bias, learnrate):\n",
    "    weights = weights + learnrate * (y- output_formula(x,weights,bias)) * x\n",
    "    bias = bias + learnrate * (y - output_formula(x,weights,bias))\n",
    "    return weights,bias\n",
    "    pass\n",
    "\n",
    "def display(m, b, color='g--'):\n",
    "    plt.xlim(-0.05,1.05)\n",
    "    plt.ylim(-0.05,1.05)\n",
    "    x = np.arange(-10, 10, 0.1)\n",
    "    plt.plot(x, m*x+b, color)"
   ]
  },
  {
   "cell_type": "code",
   "execution_count": 49,
   "metadata": {},
   "outputs": [],
   "source": [
    "epochs = 100\n",
    "learnrate = 0.5\n",
    "\n",
    "def train(features, targets, epochs, learnrate, graph_lines=False):    \n",
    "    errors = []\n",
    "    n_records, n_features = features.shape\n",
    "    \n",
    "    last_loss = None\n",
    "    weights = np.exp(np.random.normal(scale=1 / n_features**.5, size=n_features))\n",
    "   \n",
    "    bias = 0\n",
    "    for e in range(epochs):\n",
    "        del_w = np.zeros(weights.shape)\n",
    "        for x, y in zip(features, targets):         \n",
    "            output = output_formula(x, weights, bias)\n",
    "            error = error_formula(y, output)\n",
    "            weights, bias = update_weights(x, y, weights, bias, learnrate)\n",
    "        \n",
    "        # Printing out the log-loss error on the training set\n",
    "        out = output_formula(features, weights, bias)\n",
    "        loss = np.mean(error_formula(targets, out))\n",
    "        errors.append(loss)\n",
    "        if e % (epochs / 10) == 0:\n",
    "            print(\"\\n========== Epoch\", e,\"==========\")\n",
    "            if last_loss and last_loss < loss:\n",
    "                print(\"Train loss: \", loss, \"  WARNING - Loss Increasing\")\n",
    "            else:\n",
    "                print(\"Train loss: \", loss)\n",
    "            last_loss = loss\n",
    "            predictions = out > 0.5\n",
    "            accuracy = np.mean(predictions == targets)\n",
    "            print(\"Accuracy: \", accuracy)\n",
    "        if graph_lines and e % (epochs / 100) == 0:\n",
    "            display(-weights[0]/weights[1], -bias/weights[1])\n",
    "            \n",
    "\n",
    "    # Plotting the solution boundary\n",
    "    plt.title(\"Solution boundary\")\n",
    "    #display(-weights[0]/weights[1], -bias/weights[1], 'black')\n",
    "\n",
    "    # Plotting the data\n",
    "    #plot_points(features, targets)\n",
    "    plt.show()\n",
    "\n",
    "    # Plotting the error\n",
    "    plt.title(\"Error Plot\")\n",
    "    plt.xlabel('Number of epochs')\n",
    "    plt.ylabel('Error')\n",
    "    plt.plot(errors)\n",
    "    plt.show()"
   ]
  },
  {
   "cell_type": "code",
   "execution_count": 50,
   "metadata": {},
   "outputs": [
    {
     "name": "stderr",
     "output_type": "stream",
     "text": [
      "C:\\Users\\jinka\\Anaconda3\\lib\\site-packages\\ipykernel_launcher.py:15: RuntimeWarning: divide by zero encountered in log\n",
      "  from ipykernel import kernelapp as app\n"
     ]
    },
    {
     "name": "stdout",
     "output_type": "stream",
     "text": [
      "\n",
      "========== Epoch 0 ==========\n",
      "Train loss:  -inf\n",
      "Accuracy:  0.0\n",
      "\n",
      "========== Epoch 10 ==========\n",
      "Train loss:  -inf\n",
      "Accuracy:  0.0\n",
      "\n",
      "========== Epoch 20 ==========\n",
      "Train loss:  -inf\n",
      "Accuracy:  0.0\n",
      "\n",
      "========== Epoch 30 ==========\n",
      "Train loss:  -inf\n",
      "Accuracy:  0.0\n",
      "\n",
      "========== Epoch 40 ==========\n",
      "Train loss:  -inf\n",
      "Accuracy:  0.0\n",
      "\n",
      "========== Epoch 50 ==========\n",
      "Train loss:  -inf\n",
      "Accuracy:  0.0\n",
      "\n",
      "========== Epoch 60 ==========\n",
      "Train loss:  -inf\n",
      "Accuracy:  0.0\n",
      "\n",
      "========== Epoch 70 ==========\n",
      "Train loss:  -inf\n",
      "Accuracy:  0.0\n",
      "\n",
      "========== Epoch 80 ==========\n",
      "Train loss:  -inf\n",
      "Accuracy:  0.0\n",
      "\n",
      "========== Epoch 90 ==========\n",
      "Train loss:  -inf\n",
      "Accuracy:  0.0\n"
     ]
    },
    {
     "data": {
      "image/png": "[encoded data removed]",
      "text/plain": [
       "<Figure size 432x288 with 1 Axes>"
      ]
     },
     "metadata": {
      "needs_background": "light"
     },
     "output_type": "display_data"
    },
    {
     "data": {
      "image/png": "[encoded data removed]",
      "text/plain": [
       "<Figure size 432x288 with 1 Axes>"
      ]
     },
     "metadata": {
      "needs_background": "light"
     },
     "output_type": "display_data"
    }
   ],
   "source": [
    "train(X_train.as_matrix(), Y_train.as_matrix(), epochs, learnrate, True)"
   ]
  },
  {
   "cell_type": "code",
   "execution_count": null,
   "metadata": {},
   "outputs": [],
   "source": []
  }
 ],
 "metadata": {
  "kernelspec": {
   "display_name": "Python 3",
   "language": "python",
   "name": "python3"
  },
  "language_info": {
   "codemirror_mode": {
    "name": "ipython",
    "version": 3
   },
   "file_extension": ".py",
   "mimetype": "text/x-python",
   "name": "python",
   "nbconvert_exporter": "python",
   "pygments_lexer": "ipython3",
   "version": "3.6.3"
  }
 },
 "nbformat": 4,
 "nbformat_minor": 2
}
